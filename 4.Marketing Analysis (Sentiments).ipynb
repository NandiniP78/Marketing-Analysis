{
 "cells": [
  {
   "cell_type": "code",
   "execution_count": 1,
   "id": "9fe0d9e7-5192-4b8c-b130-d83a73917be6",
   "metadata": {},
   "outputs": [
    {
     "name": "stdout",
     "output_type": "stream",
     "text": [
      "Requirement already satisfied: nltk in c:\\users\\soft\\anaconda\\lib\\site-packages (3.8.1)\n",
      "Requirement already satisfied: click in c:\\users\\soft\\anaconda\\lib\\site-packages (from nltk) (8.1.7)\n",
      "Requirement already satisfied: joblib in c:\\users\\soft\\anaconda\\lib\\site-packages (from nltk) (1.4.2)\n",
      "Requirement already satisfied: regex>=2021.8.3 in c:\\users\\soft\\anaconda\\lib\\site-packages (from nltk) (2023.10.3)\n",
      "Requirement already satisfied: tqdm in c:\\users\\soft\\anaconda\\lib\\site-packages (from nltk) (4.66.4)\n",
      "Requirement already satisfied: colorama in c:\\users\\soft\\anaconda\\lib\\site-packages (from click->nltk) (0.4.6)\n",
      "Note: you may need to restart the kernel to use updated packages.\n"
     ]
    }
   ],
   "source": [
    "pip install nltk"
   ]
  },
  {
   "cell_type": "code",
   "execution_count": 3,
   "id": "e5eda15e-10c2-4731-abef-5463e2a3fd57",
   "metadata": {},
   "outputs": [],
   "source": [
    "import pandas as pd\n",
    "import pyodbc\n",
    "import nltk\n",
    "from nltk.sentiment.vader import SentimentIntensityAnalyzer"
   ]
  },
  {
   "cell_type": "code",
   "execution_count": 5,
   "id": "1903bde0-dccd-4318-afc1-e788fcd8c88a",
   "metadata": {},
   "outputs": [
    {
     "name": "stderr",
     "output_type": "stream",
     "text": [
      "[nltk_data] Downloading package vader_lexicon to\n",
      "[nltk_data]     C:\\Users\\SOFT\\AppData\\Roaming\\nltk_data...\n"
     ]
    },
    {
     "data": {
      "text/plain": [
       "True"
      ]
     },
     "execution_count": 5,
     "metadata": {},
     "output_type": "execute_result"
    }
   ],
   "source": [
    "#VADER lexicon for sentiment analysis\n",
    "nltk.download('vader_lexicon')"
   ]
  },
  {
   "cell_type": "markdown",
   "id": "97a23a1a-706f-4bc3-a09e-aaafecc7224f",
   "metadata": {},
   "source": [
    "#### Function to fetch data from a SQL database using SQL query"
   ]
  },
  {
   "cell_type": "code",
   "execution_count": 226,
   "id": "5b689b6f-0009-4392-9881-b63d1488445b",
   "metadata": {},
   "outputs": [],
   "source": [
    "\n",
    "def fetch_data():\n",
    "    conn_str = (\n",
    "        \"Driver={ODBC Driver 17 for SQL Server};\"\n",
    "        \"Server=DESKTOP-VK7B4S1;\"\n",
    "        \"Database=PortfolioProject_MarketingAnalytics;\"\n",
    "        \"Trusted_Connection=yes;\"\n",
    "    )\n",
    "    \n",
    "    query = \"SELECT ReviewID, CustomerID, ProductID, ReviewDate, Rating, REPLACE(ReviewText,'  ',' ') AS ReviewText FROM customer_reviews\"\n",
    "        \n",
    "    try:\n",
    "        conn = pyodbc.connect(conn_str)\n",
    "        df = pd.read_sql(query, conn)\n",
    "        print(f\"✅ Data fetched successfully. Rows: {len(df)}\")\n",
    "    except Exception as e:\n",
    "        print(\"❌ Error fetching data:\", e)\n",
    "        df = pd.DataFrame()\n",
    "    finally:\n",
    "        if 'conn' in locals():\n",
    "            conn.close()\n",
    "    \n",
    "    return df"
   ]
  },
  {
   "cell_type": "code",
   "execution_count": 228,
   "id": "d3599b5c-be11-4fd2-aab8-6edb7bcf68e8",
   "metadata": {},
   "outputs": [
    {
     "name": "stdout",
     "output_type": "stream",
     "text": [
      "✅ Data fetched successfully. Rows: 1363\n"
     ]
    },
    {
     "name": "stderr",
     "output_type": "stream",
     "text": [
      "C:\\Users\\SOFT\\AppData\\Local\\Temp\\ipykernel_21336\\4168339427.py:13: UserWarning: pandas only supports SQLAlchemy connectable (engine/connection) or database string URI or sqlite3 DBAPI2 connection. Other DBAPI2 objects are not tested. Please consider using SQLAlchemy.\n",
      "  df = pd.read_sql(query, conn)\n"
     ]
    }
   ],
   "source": [
    "# Fetch the customer reviews data from the SQL database\n",
    "customer_reviews_df = fetch_data()"
   ]
  },
  {
   "cell_type": "code",
   "execution_count": 230,
   "id": "eb6e4300-475a-4eb5-be81-32a4927f1f34",
   "metadata": {},
   "outputs": [
    {
     "data": {
      "text/html": [
       "<div>\n",
       "<style scoped>\n",
       "    .dataframe tbody tr th:only-of-type {\n",
       "        vertical-align: middle;\n",
       "    }\n",
       "\n",
       "    .dataframe tbody tr th {\n",
       "        vertical-align: top;\n",
       "    }\n",
       "\n",
       "    .dataframe thead th {\n",
       "        text-align: right;\n",
       "    }\n",
       "</style>\n",
       "<table border=\"1\" class=\"dataframe\">\n",
       "  <thead>\n",
       "    <tr style=\"text-align: right;\">\n",
       "      <th></th>\n",
       "      <th>ReviewID</th>\n",
       "      <th>CustomerID</th>\n",
       "      <th>ProductID</th>\n",
       "      <th>ReviewDate</th>\n",
       "      <th>Rating</th>\n",
       "      <th>ReviewText</th>\n",
       "    </tr>\n",
       "  </thead>\n",
       "  <tbody>\n",
       "    <tr>\n",
       "      <th>0</th>\n",
       "      <td>1</td>\n",
       "      <td>77</td>\n",
       "      <td>18</td>\n",
       "      <td>2023-12-23</td>\n",
       "      <td>3</td>\n",
       "      <td>Average experience, nothing special.</td>\n",
       "    </tr>\n",
       "    <tr>\n",
       "      <th>1</th>\n",
       "      <td>2</td>\n",
       "      <td>80</td>\n",
       "      <td>19</td>\n",
       "      <td>2024-12-25</td>\n",
       "      <td>5</td>\n",
       "      <td>The quality is  top-notch.</td>\n",
       "    </tr>\n",
       "    <tr>\n",
       "      <th>2</th>\n",
       "      <td>3</td>\n",
       "      <td>50</td>\n",
       "      <td>13</td>\n",
       "      <td>2025-01-26</td>\n",
       "      <td>4</td>\n",
       "      <td>Five stars for the quick delivery.</td>\n",
       "    </tr>\n",
       "    <tr>\n",
       "      <th>3</th>\n",
       "      <td>4</td>\n",
       "      <td>78</td>\n",
       "      <td>15</td>\n",
       "      <td>2025-04-21</td>\n",
       "      <td>3</td>\n",
       "      <td>Good quality, but could be cheaper.</td>\n",
       "    </tr>\n",
       "    <tr>\n",
       "      <th>4</th>\n",
       "      <td>5</td>\n",
       "      <td>64</td>\n",
       "      <td>2</td>\n",
       "      <td>2023-07-16</td>\n",
       "      <td>3</td>\n",
       "      <td>Average experience, nothing special.</td>\n",
       "    </tr>\n",
       "    <tr>\n",
       "      <th>...</th>\n",
       "      <td>...</td>\n",
       "      <td>...</td>\n",
       "      <td>...</td>\n",
       "      <td>...</td>\n",
       "      <td>...</td>\n",
       "      <td>...</td>\n",
       "    </tr>\n",
       "    <tr>\n",
       "      <th>1358</th>\n",
       "      <td>1359</td>\n",
       "      <td>28</td>\n",
       "      <td>4</td>\n",
       "      <td>2023-05-25</td>\n",
       "      <td>3</td>\n",
       "      <td>Not worth the money.</td>\n",
       "    </tr>\n",
       "    <tr>\n",
       "      <th>1359</th>\n",
       "      <td>1360</td>\n",
       "      <td>58</td>\n",
       "      <td>12</td>\n",
       "      <td>2023-11-13</td>\n",
       "      <td>2</td>\n",
       "      <td>Average  experience, nothing special.</td>\n",
       "    </tr>\n",
       "    <tr>\n",
       "      <th>1360</th>\n",
       "      <td>1361</td>\n",
       "      <td>96</td>\n",
       "      <td>15</td>\n",
       "      <td>2023-03-07</td>\n",
       "      <td>5</td>\n",
       "      <td>Customer support was very helpful.</td>\n",
       "    </tr>\n",
       "    <tr>\n",
       "      <th>1361</th>\n",
       "      <td>1362</td>\n",
       "      <td>99</td>\n",
       "      <td>2</td>\n",
       "      <td>2025-12-03</td>\n",
       "      <td>1</td>\n",
       "      <td>Product did not meet my expectations.</td>\n",
       "    </tr>\n",
       "    <tr>\n",
       "      <th>1362</th>\n",
       "      <td>1363</td>\n",
       "      <td>16</td>\n",
       "      <td>4</td>\n",
       "      <td>2024-07-16</td>\n",
       "      <td>2</td>\n",
       "      <td>The product arrived late.</td>\n",
       "    </tr>\n",
       "  </tbody>\n",
       "</table>\n",
       "<p>1363 rows × 6 columns</p>\n",
       "</div>"
      ],
      "text/plain": [
       "      ReviewID  CustomerID  ProductID  ReviewDate  Rating  \\\n",
       "0            1          77         18  2023-12-23       3   \n",
       "1            2          80         19  2024-12-25       5   \n",
       "2            3          50         13  2025-01-26       4   \n",
       "3            4          78         15  2025-04-21       3   \n",
       "4            5          64          2  2023-07-16       3   \n",
       "...        ...         ...        ...         ...     ...   \n",
       "1358      1359          28          4  2023-05-25       3   \n",
       "1359      1360          58         12  2023-11-13       2   \n",
       "1360      1361          96         15  2023-03-07       5   \n",
       "1361      1362          99          2  2025-12-03       1   \n",
       "1362      1363          16          4  2024-07-16       2   \n",
       "\n",
       "                                 ReviewText  \n",
       "0      Average experience, nothing special.  \n",
       "1                The quality is  top-notch.  \n",
       "2        Five stars for the quick delivery.  \n",
       "3       Good quality, but could be cheaper.  \n",
       "4      Average experience, nothing special.  \n",
       "...                                     ...  \n",
       "1358                   Not worth the money.  \n",
       "1359  Average  experience, nothing special.  \n",
       "1360     Customer support was very helpful.  \n",
       "1361  Product did not meet my expectations.  \n",
       "1362              The product arrived late.  \n",
       "\n",
       "[1363 rows x 6 columns]"
      ]
     },
     "execution_count": 230,
     "metadata": {},
     "output_type": "execute_result"
    }
   ],
   "source": [
    "#Look at the fetched data\n",
    "customer_reviews_df"
   ]
  },
  {
   "cell_type": "code",
   "execution_count": 232,
   "id": "05fe60dc-224d-46dc-9fe0-f0068cfc2db1",
   "metadata": {},
   "outputs": [],
   "source": [
    "# Initialize the VADER sentiment intensity analyzer for analyzing the sentiment of text data\n",
    "sia = SentimentIntensityAnalyzer()"
   ]
  },
  {
   "cell_type": "markdown",
   "id": "c91b7e89-362f-4310-9a31-32ff1ffb1dac",
   "metadata": {},
   "source": [
    "#### Define a function to calculate sentiment scores using VADER"
   ]
  },
  {
   "cell_type": "code",
   "execution_count": 235,
   "id": "60d44dfd-8b95-475e-8b4e-02b623d42ff8",
   "metadata": {},
   "outputs": [],
   "source": [
    "def calculate_sentiment(review):\n",
    "    # Get the sentiment scores for the review text\n",
    "    sentiment = sia.polarity_scores(review)\n",
    "    # Return the compound score, which is a normalized score between -1 (most negative) and 1 (most positive)\n",
    "    return sentiment['compound']"
   ]
  },
  {
   "cell_type": "markdown",
   "id": "0b1b58e5-1e56-4bc6-bbf3-18bffbeca41e",
   "metadata": {},
   "source": [
    "#### Define a function to categorize sentiment using both the sentiment score and the review rating"
   ]
  },
  {
   "cell_type": "code",
   "execution_count": 238,
   "id": "6df2d99e-a580-4aa0-956d-635947cc5a27",
   "metadata": {},
   "outputs": [],
   "source": [
    "def categorize_sentiment(score, rating):\n",
    "    if score > 0.05:  # Positive sentiment score\n",
    "        if rating >= 4:\n",
    "            return 'Positive'  # High rating and positive sentiment\n",
    "        elif rating == 3:\n",
    "            return 'Mixed Positive'  # Neutral rating but positive sentiment\n",
    "        else:\n",
    "            return 'Mixed Negative'  # Low rating but positive sentiment\n",
    "    elif score < -0.05:  # Negative sentiment score\n",
    "        if rating <= 2:\n",
    "            return 'Negative'  # Low rating and negative sentiment\n",
    "        elif rating == 3:\n",
    "            return 'Mixed Negative'  # Neutral rating but negative sentiment\n",
    "        else:\n",
    "            return 'Mixed Positive'  # High rating but negative sentiment\n",
    "    else:  # Neutral sentiment score\n",
    "        if rating >= 4:\n",
    "            return 'Positive'  # High rating with neutral sentiment\n",
    "        elif rating <= 2:\n",
    "            return 'Negative'  # Low rating with neutral sentiment\n",
    "        else:\n",
    "            return 'Neutral'  # Neutral rating and neutral sentiment"
   ]
  },
  {
   "cell_type": "markdown",
   "id": "ae8edbcc-cc2b-485a-b1b3-159bdc72d006",
   "metadata": {},
   "source": [
    "#### Define a function to bucket sentiment scores into text ranges"
   ]
  },
  {
   "cell_type": "code",
   "execution_count": 241,
   "id": "7ffe233d-946c-49af-ba91-d7499d5191d8",
   "metadata": {},
   "outputs": [],
   "source": [
    "def sentiment_bucket(score):\n",
    "    if score >= 0.5:\n",
    "        return '0.5 to 1.0'  # Strongly positive sentiment\n",
    "    elif 0.0 <= score < 0.5:\n",
    "        return '0.0 to 0.49'  # Mildly positive sentiment\n",
    "    elif -0.5 <= score < 0.0:\n",
    "        return '-0.49 to 0.0'  # Mildly negative sentiment\n",
    "    else:\n",
    "        return '-1.0 to -0.5'  # Strongly negative sentiment"
   ]
  },
  {
   "cell_type": "code",
   "execution_count": 243,
   "id": "913df9bf-c811-431a-98e8-8083fb2a6f39",
   "metadata": {},
   "outputs": [],
   "source": [
    "# Apply sentiment analysis to calculate sentiment scores for each review\n",
    "customer_reviews_df['SentimentScore'] = customer_reviews_df['ReviewText'].apply(calculate_sentiment)"
   ]
  },
  {
   "cell_type": "code",
   "execution_count": 245,
   "id": "d33ff473-02f0-416b-a3df-932865f00819",
   "metadata": {},
   "outputs": [],
   "source": [
    "# Apply sentiment categorization using both text and rating\n",
    "customer_reviews_df['SentimentCategory'] = customer_reviews_df.apply(\n",
    "    lambda row: categorize_sentiment(row['SentimentScore'], row['Rating']), axis=1)"
   ]
  },
  {
   "cell_type": "code",
   "execution_count": 247,
   "id": "b7aebc46-6bdd-4886-b533-6168a888c0fa",
   "metadata": {},
   "outputs": [],
   "source": [
    "# Apply sentiment bucketing to categorize scores into defined ranges\n",
    "customer_reviews_df['SentimentBucket'] = customer_reviews_df['SentimentScore'].apply(sentiment_bucket)"
   ]
  },
  {
   "cell_type": "code",
   "execution_count": 249,
   "id": "923cd41b-c6d2-458a-af07-4cd53941b4e7",
   "metadata": {},
   "outputs": [],
   "source": [
    "customer_reviews_df['ReviewText'] = customer_reviews_df['ReviewText'].apply(lambda row : row.replace('  ',' '))\n",
    "customer_reviews_df['ReviewText'] = customer_reviews_df['ReviewText'].apply(lambda row : row.replace(',','-'))"
   ]
  },
  {
   "cell_type": "code",
   "execution_count": 251,
   "id": "056a4f43-1baf-47d4-9964-c1cb0ad7b05e",
   "metadata": {},
   "outputs": [],
   "source": [
    "# Save the DataFrame with sentiment scores, categories, and buckets to a new CSV file\n",
    "customer_reviews_df.to_csv('fact_customer_reviews_with_sentiment.csv', index=False)"
   ]
  },
  {
   "cell_type": "code",
   "execution_count": null,
   "id": "412b1139-e558-4846-81b8-12f6a1b891f2",
   "metadata": {},
   "outputs": [],
   "source": []
  }
 ],
 "metadata": {
  "kernelspec": {
   "display_name": "Python 3 (ipykernel)",
   "language": "python",
   "name": "python3"
  },
  "language_info": {
   "codemirror_mode": {
    "name": "ipython",
    "version": 3
   },
   "file_extension": ".py",
   "mimetype": "text/x-python",
   "name": "python",
   "nbconvert_exporter": "python",
   "pygments_lexer": "ipython3",
   "version": "3.12.4"
  }
 },
 "nbformat": 4,
 "nbformat_minor": 5
}
